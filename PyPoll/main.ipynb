{
 "cells": [
  {
   "cell_type": "code",
   "execution_count": 1,
   "id": "3d75d883",
   "metadata": {},
   "outputs": [],
   "source": [
    "import os\n",
    "import csv\n",
    "import pandas as pd\n",
    "import scipy.stats as st\n",
    "import numpy as np\n",
    "from statistics import mean\n",
    "csvpath = os.path.join('Resources', 'election_data.csv')"
   ]
  },
  {
   "cell_type": "code",
   "execution_count": 3,
   "id": "a124cf32",
   "metadata": {},
   "outputs": [
    {
     "name": "stdout",
     "output_type": "stream",
     "text": [
      "<_csv.reader object at 0x0000015CB4A81F40>\n",
      "Election Results\n",
      "----------------------------\n",
      "Total Votes: 369711\n",
      "----------------------------\n",
      "Diana DeGette: 73.812% (272892)\n",
      "Charles Casper Stockham: 23.049% (85213)\n",
      "Raymon Anthony Doane: 3.139% (11606)\n",
      "----------------------------\n",
      "Winner: Diana DeGette\n",
      "----------------------------\n"
     ]
    }
   ],
   "source": [
    "with open(csvpath) as csvfile:\n",
    "    csvreader = csv.reader(csvfile, delimiter=',')\n",
    "    print(csvreader)\n",
    "    csv_header = next(csvreader)\n",
    "    data_list = []\n",
    "    for row in csvreader:\n",
    "        data_list.append(row)\n",
    "    df = pd.DataFrame(data_list, columns=csv_header)\n",
    "    votes = df.value_counts('Candidate')\n",
    "    votes_df = pd.DataFrame(votes)\n",
    "\n",
    "    print('Election Results')\n",
    "    print('----------------------------')\n",
    "    print(f'Total Votes: {len(data_list)}')\n",
    "    print('----------------------------')\n",
    "    print(f'{votes_df.index[0]}: {votes_df[0][0]/len(data_list):.3%} ({votes_df[0][0]})')\n",
    "    print(f'{votes_df.index[1]}: {votes_df[0][1]/len(data_list):.3%} ({votes_df[0][1]})')\n",
    "    print(f'{votes_df.index[2]}: {votes_df[0][2]/len(data_list):.3%} ({votes_df[0][2]})')\n",
    "    print('----------------------------')\n",
    "    print(f'Winner: {pd.DataFrame(votes_df.idxmax())[0][0]}')\n",
    "    print('----------------------------')"
   ]
  },
  {
   "cell_type": "code",
   "execution_count": 6,
   "id": "a3ed9345",
   "metadata": {},
   "outputs": [],
   "source": [
    "txtpath = os.path.join('Analysis', 'Analysis.txt')\n",
    "file = open(txtpath, 'w')\n",
    "file.write('Election Results\\n')\n",
    "file.write('----------------------------\\n')\n",
    "file.write(f'Total Votes: {len(data_list)}\\n')\n",
    "file.write('----------------------------\\n')\n",
    "file.write(f'{votes_df.index[0]}: {votes_df[0][0]/len(data_list):.3%} ({votes_df[0][0]})\\n')\n",
    "file.write(f'{votes_df.index[1]}: {votes_df[0][1]/len(data_list):.3%} ({votes_df[0][1]})\\n')\n",
    "file.write(f'{votes_df.index[2]}: {votes_df[0][2]/len(data_list):.3%} ({votes_df[0][2]})\\n')\n",
    "file.write('----------------------------\\n')\n",
    "file.write(f'Winner: {pd.DataFrame(votes_df.idxmax())[0][0]}\\n')\n",
    "file.write('----------------------------\\n')\n",
    "file.close()"
   ]
  },
  {
   "cell_type": "code",
   "execution_count": null,
   "id": "58ac7dbe",
   "metadata": {},
   "outputs": [],
   "source": []
  }
 ],
 "metadata": {
  "kernelspec": {
   "display_name": "Python 3 (ipykernel)",
   "language": "python",
   "name": "python3"
  },
  "language_info": {
   "codemirror_mode": {
    "name": "ipython",
    "version": 3
   },
   "file_extension": ".py",
   "mimetype": "text/x-python",
   "name": "python",
   "nbconvert_exporter": "python",
   "pygments_lexer": "ipython3",
   "version": "3.9.13"
  }
 },
 "nbformat": 4,
 "nbformat_minor": 5
}
