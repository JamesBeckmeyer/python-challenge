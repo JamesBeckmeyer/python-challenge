{
 "cells": [
  {
   "cell_type": "code",
   "execution_count": 1,
   "id": "5fd56c37",
   "metadata": {},
   "outputs": [],
   "source": [
    "import os\n",
    "import csv\n",
    "import pandas as pd\n",
    "import scipy.stats as st\n",
    "import numpy as np\n",
    "from statistics import mean\n",
    "csvpath = os.path.join('Resources', 'budget_data.csv')\n",
    "\n"
   ]
  },
  {
   "cell_type": "code",
   "execution_count": 2,
   "id": "cd62916a",
   "metadata": {},
   "outputs": [
    {
     "name": "stdout",
     "output_type": "stream",
     "text": [
      "<_csv.reader object at 0x000001FD84F4ECA0>\n",
      "Financial Analysis\n",
      "----------------------------\n",
      "Total Months: 86\n",
      "Total: $22564198\n",
      "Average Change: $-8311.11\n",
      "Greatest Increase in Profits: Aug-16 ($1862002)\n",
      "Greatest Decrease in Profits: Feb-14 ($-1825558)\n"
     ]
    }
   ],
   "source": [
    "with open(csvpath) as csvfile:\n",
    "    csvreader = csv.reader(csvfile, delimiter=',')\n",
    "    print(csvreader)\n",
    "    csv_header = next(csvreader)\n",
    "    data_list = []\n",
    "    for row in csvreader:\n",
    "        data_list.append(row)\n",
    "    \n",
    "    profit_list = [int(item[1]) for item in data_list]\n",
    "    monthly_profit_list = [[(profit_list[i]-profit_list[i-1]), data_list[i][0]] for i in range(1, 86)]\n",
    "    avg_change = round(mean([(profit_list[i]-profit_list[i-1])for i in range(1, 86)]), 2)\n",
    "    \n",
    "    print('Financial Analysis')\n",
    "    print('----------------------------')\n",
    "    print(f'Total Months: {len(data_list)}')\n",
    "    print(f'Total: ${sum(profit_list)}')\n",
    "    print(f'Average Change: ${avg_change}')\n",
    "    print(f'Greatest Increase in Profits: {max(monthly_profit_list)[1]} (${max(monthly_profit_list)[0]})')\n",
    "    print(f'Greatest Decrease in Profits: {min(monthly_profit_list)[1]} (${min(monthly_profit_list)[0]})')"
   ]
  },
  {
   "cell_type": "code",
   "execution_count": 5,
   "id": "e46010c3",
   "metadata": {},
   "outputs": [],
   "source": [
    "txtpath = os.path.join('Analysis', 'Analysis.txt')\n",
    "file = open(txtpath, 'w')\n",
    "file.write('Financial Analysis\\n')\n",
    "file.write('----------------------------\\n')\n",
    "file.write(f'Total Months: {len(data_list)}\\n')\n",
    "file.write(f'Total: ${sum(profit_list)}\\n')\n",
    "file.write(f'Average Change: ${avg_change}\\n')\n",
    "file.write(f'Greatest Increase in Profits: {max(monthly_profit_list)[1]} (${max(monthly_profit_list)[0]})\\n')\n",
    "file.write(f'Greatest Decrease in Profits: {min(monthly_profit_list)[1]} (${min(monthly_profit_list)[0]})\\n')\n",
    "file.close()"
   ]
  },
  {
   "cell_type": "code",
   "execution_count": null,
   "id": "c310bd14",
   "metadata": {},
   "outputs": [],
   "source": []
  }
 ],
 "metadata": {
  "kernelspec": {
   "display_name": "Python 3 (ipykernel)",
   "language": "python",
   "name": "python3"
  },
  "language_info": {
   "codemirror_mode": {
    "name": "ipython",
    "version": 3
   },
   "file_extension": ".py",
   "mimetype": "text/x-python",
   "name": "python",
   "nbconvert_exporter": "python",
   "pygments_lexer": "ipython3",
   "version": "3.9.13"
  }
 },
 "nbformat": 4,
 "nbformat_minor": 5
}
